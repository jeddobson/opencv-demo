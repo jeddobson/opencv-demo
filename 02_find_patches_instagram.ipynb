{
 "cells": [
  {
   "cell_type": "code",
   "execution_count": null,
   "metadata": {},
   "outputs": [],
   "source": [
    "# This notebook uses OpenCV's matchTemplate to match a patch\n",
    "# of a known image in order to find images containing these patches.\n",
    "#\n",
    "# James E. Dobson\n",
    "# James.E.Dobson@Dartmouth.EDU\n",
    "# https://jeddobson.github.io/\n",
    "\n",
    "import numpy as np\n",
    "import glob, argparse\n",
    "import os\n",
    "import cv2\n",
    "from matplotlib import pyplot as plt\n",
    "import numpy as np"
   ]
  },
  {
   "cell_type": "code",
   "execution_count": null,
   "metadata": {},
   "outputs": [],
   "source": [
    "# Download image (requirement for collab notebook)\n",
    "# and read patch image in gray scale\n",
    "if os.path.exists('etc') == False:\n",
    "    !mkdir etc\n",
    "!wget https://raw.githubusercontent.com/jeddobson/opencv-demo/main/etc/dartmouth_hall_patch.png -o etc/dartmouth_hall_patch.png\n",
    "\n",
    "patch_img = cv2.imread(\"etc/dartmouth_hall_patch.png\", 0)\n",
    "h, w = patch_img.shape[:2]"
   ]
  },
  {
   "cell_type": "code",
   "execution_count": null,
   "metadata": {},
   "outputs": [],
   "source": [
    "# download and extract data\n",
    "!wget 'https://www.dropbox.com/s/7iq7kg623z5f0sd/opencv_data.tgz?dl=0' -o opencv_data.tgz\n",
    "!tar -zxf opencv_data.tgz"
   ]
  },
  {
   "cell_type": "code",
   "execution_count": null,
   "metadata": {},
   "outputs": [],
   "source": [
    "# The selected Instagram images should display some problems with \n",
    "# this template matching method using these selected variables.\n",
    "\n",
    "for img in glob.glob(\"data/*.jpg\"):\n",
    "    # read each image\n",
    "    target = cv2.imread(img,0)\n",
    "    res = cv2.matchTemplate(target, patch_img, cv2.TM_CCOEFF_NORMED)\n",
    "    \n",
    "    # these this threshold value seems to work reasonably well for these images\n",
    "    thresh = 0.55\n",
    "\n",
    "    # locate possible matches\n",
    "    loc = np.where(res >= thresh)\n",
    "    ct = 0\n",
    "    for pt in zip(*loc[::-1]):\n",
    "        ct = ct + 1\n",
    "        if ct == 1:\n",
    "            # if we found a match, draw a bold rectangle around matching area of target images \n",
    "            cv2.rectangle(target, pt, (pt[0] + w, pt[1] + h), (0,0,255), 3)\n",
    "    # display image if match found\n",
    "    if ct > 0:\n",
    "        plt.imshow(target,cmap='gray')\n",
    "        plt.show()"
   ]
  }
 ],
 "metadata": {
  "kernelspec": {
   "display_name": "Python 3 (ipykernel)",
   "language": "python",
   "name": "python3"
  },
  "language_info": {
   "codemirror_mode": {
    "name": "ipython",
    "version": 3
   },
   "file_extension": ".py",
   "mimetype": "text/x-python",
   "name": "python",
   "nbconvert_exporter": "python",
   "pygments_lexer": "ipython3",
   "version": "3.9.15"
  }
 },
 "nbformat": 4,
 "nbformat_minor": 2
}
