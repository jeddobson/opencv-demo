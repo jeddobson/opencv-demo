{
 "cells": [
  {
   "cell_type": "code",
   "execution_count": null,
   "metadata": {},
   "outputs": [],
   "source": [
    "# This notebook uses OpenCV's HAAR cascade classifier to find images with \n",
    "# faces, count the number of faces, and display images with bounding boxes\n",
    "# surrounding detected faces.\n",
    "#\n",
    "# James E. Dobson\n",
    "# James.E.Dobson@Dartmouth.EDU\n",
    "# https://jeddobson.github.io/\n",
    "\n",
    "import numpy as np\n",
    "import glob\n",
    "import cv2\n",
    "import os\n",
    "from matplotlib import pyplot as plt"
   ]
  },
  {
   "cell_type": "code",
   "execution_count": null,
   "metadata": {},
   "outputs": [],
   "source": [
    "# download and extract data\n",
    "!wget 'https://www.dropbox.com/s/7iq7kg623z5f0sd/opencv_data.tgz?dl=0' -O opencv_data.tgz\n",
    "!tar -zxf opencv_data.tgz > /dev/null 2>&1"
   ]
  },
  {
   "cell_type": "code",
   "execution_count": null,
   "metadata": {},
   "outputs": [],
   "source": [
    "# Download image (requirement for collab notebook)\n",
    "# and read patch image in gray scale\n",
    "if os.path.exists('etc') == False:\n",
    "    !mkdir etc\n",
    "!wget https://raw.githubusercontent.com/jeddobson/opencv-demo/main/etc/haarcascade_frontalface_default.xml -O etc/haarcascade_frontalface_default.xml"
   ]
  },
  {
   "cell_type": "code",
   "execution_count": null,
   "metadata": {},
   "outputs": [],
   "source": [
    "# load OpenCV HAAR face classifier\n",
    "haar_classifier = cv2.CascadeClassifier(\"etc/haarcascade_frontalface_default.xml\")"
   ]
  },
  {
   "cell_type": "code",
   "execution_count": null,
   "metadata": {},
   "outputs": [],
   "source": [
    "# The selected training images should display some problems with \n",
    "# the HAAR cascade classifer with these selected variables.\n",
    "\n",
    "# Process a small set of images found in the \"train\" directory\n",
    "for image in glob.glob(\"train/*.jpg\"):\n",
    "\n",
    "    # read image data as gray scale and resize to 500x500 pixels\n",
    "    img = cv2.imread(image,0)\n",
    "    img = cv2.resize(img, (500, 500)) \n",
    "    \n",
    "    # find faces using our HAAR classifer\n",
    "    faces = haar_classifier.detectMultiScale(img, 1.3, 5)\n",
    "\n",
    "    # only display images if we find faces\n",
    "    if len(faces) > 0:\n",
    "        print(\"image: {0}\".format(image))\n",
    "        print(\"number faces detected: {0}\".format(len(faces)))\n",
    "        \n",
    "        # draw bounding box around each detected face\n",
    "        for (x,y,w,h) in faces:\n",
    "            cv2.rectangle(img,(x,y),(x+w,y+h),(255,0,0),2)\n",
    "\n",
    "        # display image with larger canvas\n",
    "        fig = plt.figure(figsize=(10, 7))\n",
    "        plt.imshow(img,cmap='gray')\n",
    "        plt.show()"
   ]
  },
  {
   "cell_type": "code",
   "execution_count": null,
   "metadata": {},
   "outputs": [],
   "source": []
  }
 ],
 "metadata": {
  "kernelspec": {
   "display_name": "Python 3 (ipykernel)",
   "language": "python",
   "name": "python3"
  },
  "language_info": {
   "codemirror_mode": {
    "name": "ipython",
    "version": 3
   },
   "file_extension": ".py",
   "mimetype": "text/x-python",
   "name": "python",
   "nbconvert_exporter": "python",
   "pygments_lexer": "ipython3",
   "version": "3.9.15"
  }
 },
 "nbformat": 4,
 "nbformat_minor": 2
}
