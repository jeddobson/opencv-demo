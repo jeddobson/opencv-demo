{
 "cells": [
  {
   "cell_type": "code",
   "execution_count": null,
   "metadata": {},
   "outputs": [],
   "source": [
    "# This notebook uses OpenCV's Canny edge detection and HoughLines\n",
    "# to detect and overlay blue lines on an image.\n",
    "#\n",
    "# James E. Dobson\n",
    "# James.E.Dobson@Dartmouth.EDU\n",
    "# https://jeddobson.github.io/\n",
    "\n",
    "import numpy as np\n",
    "import glob, argparse\n",
    "import cv2\n",
    "from matplotlib import pyplot as plt\n",
    "import numpy as np"
   ]
  },
  {
   "cell_type": "code",
   "execution_count": null,
   "metadata": {},
   "outputs": [],
   "source": [
    "# download and extract data\n",
    "!wget 'https://www.dropbox.com/s/7iq7kg623z5f0sd/opencv_data.tgz?dl=0' -O opencv_data.tgz\n",
    "!tar -zxf opencv_data.tgz > /dev/null 2>&1"
   ]
  },
  {
   "cell_type": "code",
   "execution_count": null,
   "metadata": {},
   "outputs": [],
   "source": [
    "# read image\n",
    "src_image = cv2.imread(\"train/14624794_322090368149985_5742206390957506560_n.jpg\")\n",
    "gray  = src_image.copy()\n",
    "fig = plt.figure(figsize=(8,8))\n",
    "image = cv2.cvtColor(src_image, cv2.COLOR_BGR2RGB)\n",
    "plt.imshow(image)\n",
    "plt.show()"
   ]
  },
  {
   "cell_type": "code",
   "execution_count": null,
   "metadata": {},
   "outputs": [],
   "source": [
    "# convert to grayscale and extract edges using Canny edge detection\n",
    "gray = cv2.cvtColor(gray,cv2.COLOR_BGR2GRAY)\n",
    "edges = cv2.Canny(gray,50,800,apertureSize = 3)"
   ]
  },
  {
   "cell_type": "code",
   "execution_count": null,
   "metadata": {},
   "outputs": [],
   "source": [
    "# display edges\n",
    "fig = plt.figure(figsize=(12, 12))\n",
    "plt.imshow(edges,cmap='gray')\n",
    "plt.show()"
   ]
  },
  {
   "cell_type": "code",
   "execution_count": null,
   "metadata": {},
   "outputs": [],
   "source": [
    "# extract lines\n",
    "#edge2 = edges[int(edges.shape[0]/2):int(edges.shape[0])]\n",
    "lines = cv2.HoughLines(edges,1,np.pi/180, 190, 10,250)\n",
    "orig  = image.copy()\n",
    "\n",
    "for line in lines:\n",
    "    for rho, theta in line:\n",
    "        a = np.cos(theta)\n",
    "        b = np.sin(theta)\n",
    "        x0 = a*rho\n",
    "        y0 = b*rho\n",
    "        x1 = int(x0 + 1000*(-b))\n",
    "        y1 = int(y0 + 1000*(a))\n",
    "        x2 = int(x0 - 1000*(-b))\n",
    "        y2 = int(y0 - 1000*(a))\n",
    "        \n",
    "        # draw blue lines\n",
    "        cv2.line(image,(x1,y1),(x2,y2),(0,0,255),3)"
   ]
  },
  {
   "cell_type": "code",
   "execution_count": null,
   "metadata": {},
   "outputs": [],
   "source": [
    "fig = plt.figure(figsize=(12, 12))\n",
    "plt.imshow(image,cmap='gray')\n",
    "image_gray = cv2.cvtColor(image, cv2.COLOR_BGR2GRAY)\n",
    "plt.axis('off')\n",
    "plt.show()"
   ]
  },
  {
   "cell_type": "code",
   "execution_count": null,
   "metadata": {},
   "outputs": [],
   "source": []
  }
 ],
 "metadata": {
  "kernelspec": {
   "display_name": "Python 3 (ipykernel)",
   "language": "python",
   "name": "python3"
  },
  "language_info": {
   "codemirror_mode": {
    "name": "ipython",
    "version": 3
   },
   "file_extension": ".py",
   "mimetype": "text/x-python",
   "name": "python",
   "nbconvert_exporter": "python",
   "pygments_lexer": "ipython3",
   "version": "3.9.15"
  }
 },
 "nbformat": 4,
 "nbformat_minor": 2
}
