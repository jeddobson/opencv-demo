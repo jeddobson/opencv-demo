{
 "cells": [
  {
   "cell_type": "code",
   "execution_count": null,
   "metadata": {},
   "outputs": [],
   "source": [
    "# This notebook uses OpenCV's calcHist to calculate histograms to find similar\n",
    "# images. It produces a distance matrix using Euclidean distance of the flattened\n",
    "# histograms. It demonstrates how the distribution of color (RGB values) can be used\n",
    "# to cluster images based on pixel intensity values (rather than more other,\n",
    "# more complicated features).\n",
    "#\n",
    "# James E. Dobson\n",
    "# James.E.Dobson@Dartmouth.EDU\n",
    "# https://jeddobson.github.io/\n",
    "\n",
    "from glob import glob\n",
    "import cv2\n",
    "from matplotlib import pyplot as plt\n",
    "import numpy as np\n",
    "from sklearn.metrics import euclidean_distances"
   ]
  },
  {
   "cell_type": "code",
   "execution_count": null,
   "metadata": {},
   "outputs": [],
   "source": [
    "# download and extract data\n",
    "!wget 'https://www.dropbox.com/s/7iq7kg623z5f0sd/opencv_data.tgz?dl=0' -O opencv_data.tgz\n",
    "!tar -zxf opencv_data.tgz > /dev/null 2>&1"
   ]
  },
  {
   "cell_type": "code",
   "execution_count": null,
   "metadata": {},
   "outputs": [],
   "source": [
    "# simple function to produce flattened (1d) representation of image histogram\n",
    "def extract_histogram(image):\n",
    "    img = cv2.imread(image)\n",
    "    hsv = cv2.cvtColor(img,cv2.COLOR_BGR2HSV)\n",
    "    hist = cv2.calcHist(hsv,[0, 1, 2], None,(8,8,8),[0, 180, 0, 256, 0, 256])\n",
    "    return hist.flatten()"
   ]
  },
  {
   "cell_type": "code",
   "execution_count": null,
   "metadata": {},
   "outputs": [],
   "source": [
    "# display sample image\n",
    "sample_image = \"train/14374175_139680423163339_3750215527033733120_n.jpg\"\n",
    "img = cv2.imread(sample_image)\n",
    "img = cv2.cvtColor(img, cv2.COLOR_BGR2RGB)\n",
    "plt.imshow(img)\n",
    "plt.show()"
   ]
  },
  {
   "cell_type": "code",
   "execution_count": null,
   "metadata": {},
   "outputs": [],
   "source": [
    "# create a list of files\n",
    "filenames = glob(\"train/*jpg\")\n",
    "sample_idx = filenames.index(sample_image)\n",
    "\n",
    "hist_data = list()\n",
    "for file in filenames:\n",
    "    hist_data.append(extract_histogram(file))"
   ]
  },
  {
   "cell_type": "code",
   "execution_count": null,
   "metadata": {},
   "outputs": [],
   "source": [
    "# calculate similarities with Euclidean distance metric\n",
    "euclidean_dist_matrix = euclidean_distances(hist_data)"
   ]
  },
  {
   "cell_type": "code",
   "execution_count": null,
   "metadata": {},
   "outputs": [],
   "source": [
    "for i in np.argsort(euclidean_dist_matrix[sample_idx]):\n",
    "    print(filenames[i],euclidean_dist_matrix[sample_idx][i])\n",
    "    img = cv2.imread(filenames[i])\n",
    "    img = cv2.cvtColor(img, cv2.COLOR_BGR2RGB)\n",
    "    plt.imshow(img)\n",
    "    plt.show()"
   ]
  },
  {
   "cell_type": "code",
   "execution_count": null,
   "metadata": {},
   "outputs": [],
   "source": []
  }
 ],
 "metadata": {
  "kernelspec": {
   "display_name": "Python 3 (ipykernel)",
   "language": "python",
   "name": "python3"
  },
  "language_info": {
   "codemirror_mode": {
    "name": "ipython",
    "version": 3
   },
   "file_extension": ".py",
   "mimetype": "text/x-python",
   "name": "python",
   "nbconvert_exporter": "python",
   "pygments_lexer": "ipython3",
   "version": "3.9.15"
  }
 },
 "nbformat": 4,
 "nbformat_minor": 2
}
