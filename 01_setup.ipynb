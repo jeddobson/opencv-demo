{
 "cells": [
  {
   "cell_type": "code",
   "execution_count": null,
   "id": "1c9f6ba9",
   "metadata": {},
   "outputs": [],
   "source": [
    "# install packages needed for OpenCV + VGG neural network\n",
    "!pip install numpy matplotlib\n",
    "!pip install opencv-python\n",
    "!pip install tensorflow"
   ]
  },
  {
   "cell_type": "code",
   "execution_count": null,
   "id": "3ff534a6",
   "metadata": {},
   "outputs": [],
   "source": [
    "# extract data\n",
    "!wget 'https://www.dropbox.com/s/7iq7kg623z5f0sd/opencv_data.tgz?dl=0'\n",
    "!tar -zxf opencv_data.tgz"
   ]
  }
 ],
 "metadata": {
  "kernelspec": {
   "display_name": "Python 3 (ipykernel)",
   "language": "python",
   "name": "python3"
  },
  "language_info": {
   "codemirror_mode": {
    "name": "ipython",
    "version": 3
   },
   "file_extension": ".py",
   "mimetype": "text/x-python",
   "name": "python",
   "nbconvert_exporter": "python",
   "pygments_lexer": "ipython3",
   "version": "3.9.15"
  }
 },
 "nbformat": 4,
 "nbformat_minor": 5
}
